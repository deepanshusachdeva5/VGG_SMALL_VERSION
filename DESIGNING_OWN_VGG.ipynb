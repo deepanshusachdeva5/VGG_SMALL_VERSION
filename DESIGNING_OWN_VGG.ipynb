{
 "cells": [
  {
   "cell_type": "code",
   "execution_count": 1,
   "metadata": {},
   "outputs": [],
   "source": [
    "from __future__ import print_function"
   ]
  },
  {
   "cell_type": "code",
   "execution_count": 2,
   "metadata": {},
   "outputs": [],
   "source": [
    "from keras.preprocessing.image import ImageDataGenerator"
   ]
  },
  {
   "cell_type": "code",
   "execution_count": 3,
   "metadata": {},
   "outputs": [],
   "source": [
    "from keras.models import Sequential,Model"
   ]
  },
  {
   "cell_type": "code",
   "execution_count": 4,
   "metadata": {},
   "outputs": [],
   "source": [
    "from keras.layers import Dense,Dropout,Flatten,Activation,BatchNormalization,Conv2D,MaxPooling2D"
   ]
  },
  {
   "cell_type": "code",
   "execution_count": 5,
   "metadata": {},
   "outputs": [],
   "source": [
    "from keras.layers.advanced_activations import ELU"
   ]
  },
  {
   "cell_type": "code",
   "execution_count": 6,
   "metadata": {},
   "outputs": [],
   "source": [
    "import os"
   ]
  },
  {
   "cell_type": "code",
   "execution_count": 7,
   "metadata": {},
   "outputs": [],
   "source": [
    "num_classes = 20\n",
    "img_rows,img_cols = 32,32"
   ]
  },
  {
   "cell_type": "code",
   "execution_count": 8,
   "metadata": {},
   "outputs": [],
   "source": [
    "batch_size = 16"
   ]
  },
  {
   "cell_type": "code",
   "execution_count": 9,
   "metadata": {},
   "outputs": [],
   "source": [
    "train_data_dir = './simpsons/train/'\n",
    "validation_data_dir = './simpsons/validation/'"
   ]
  },
  {
   "cell_type": "code",
   "execution_count": 12,
   "metadata": {},
   "outputs": [],
   "source": [
    "train_datagen = ImageDataGenerator(rescale=1./255,rotation_range=20,width_shift_range=0.2,height_shift_range=0.2,horizontal_flip=True,fill_mode='nearest')"
   ]
  },
  {
   "cell_type": "code",
   "execution_count": 13,
   "metadata": {},
   "outputs": [],
   "source": [
    "validation_datagen = ImageDataGenerator(rescale=1./255)"
   ]
  },
  {
   "cell_type": "code",
   "execution_count": 14,
   "metadata": {},
   "outputs": [
    {
     "name": "stdout",
     "output_type": "stream",
     "text": [
      "Found 19548 images belonging to 20 classes.\n"
     ]
    }
   ],
   "source": [
    "train_generator = train_datagen.flow_from_directory(train_data_dir,target_size=(img_rows,img_cols),class_mode='categorical',batch_size=batch_size)"
   ]
  },
  {
   "cell_type": "code",
   "execution_count": 15,
   "metadata": {},
   "outputs": [],
   "source": [
    "nb_train_samples = 19548"
   ]
  },
  {
   "cell_type": "code",
   "execution_count": 16,
   "metadata": {},
   "outputs": [
    {
     "name": "stdout",
     "output_type": "stream",
     "text": [
      "Found 990 images belonging to 20 classes.\n"
     ]
    }
   ],
   "source": [
    "validation_generator = validation_datagen.flow_from_directory(validation_data_dir,target_size=(img_rows,img_cols),class_mode='categorical',batch_size=batch_size)"
   ]
  },
  {
   "cell_type": "code",
   "execution_count": 17,
   "metadata": {},
   "outputs": [],
   "source": [
    "nb_validation_samples = 990"
   ]
  },
  {
   "cell_type": "code",
   "execution_count": 18,
   "metadata": {},
   "outputs": [],
   "source": [
    "from keras.callbacks import EarlyStopping,ModelCheckpoint"
   ]
  },
  {
   "cell_type": "code",
   "execution_count": 19,
   "metadata": {},
   "outputs": [],
   "source": [
    "checkpoint = ModelCheckpoint('Simpsons.h5',monitor = 'val_loss',mode='min',save_best_only=True,verbose=1)"
   ]
  },
  {
   "cell_type": "code",
   "execution_count": 20,
   "metadata": {},
   "outputs": [],
   "source": [
    "early_stopping = EarlyStopping(monitor='val_loss',mode='min',restore_best_weights=True,min_delta=0,patience = 3)"
   ]
  },
  {
   "cell_type": "code",
   "execution_count": 21,
   "metadata": {},
   "outputs": [],
   "source": [
    "callbacks = [early_stopping,checkpoint]"
   ]
  },
  {
   "cell_type": "markdown",
   "metadata": {},
   "source": [
    "## Smaller VGG"
   ]
  },
  {
   "cell_type": "code",
   "execution_count": 23,
   "metadata": {},
   "outputs": [
    {
     "name": "stdout",
     "output_type": "stream",
     "text": [
      "Model: \"sequential\"\n",
      "_________________________________________________________________\n",
      "Layer (type)                 Output Shape              Param #   \n",
      "=================================================================\n",
      "conv2d (Conv2D)              (None, 32, 32, 64)        1792      \n",
      "_________________________________________________________________\n",
      "batch_normalization (BatchNo (None, 32, 32, 64)        256       \n",
      "_________________________________________________________________\n",
      "conv2d_1 (Conv2D)            (None, 32, 32, 64)        36928     \n",
      "_________________________________________________________________\n",
      "batch_normalization_1 (Batch (None, 32, 32, 64)        256       \n",
      "_________________________________________________________________\n",
      "max_pooling2d (MaxPooling2D) (None, 16, 16, 64)        0         \n",
      "_________________________________________________________________\n",
      "dropout (Dropout)            (None, 16, 16, 64)        0         \n",
      "_________________________________________________________________\n",
      "conv2d_2 (Conv2D)            (None, 16, 16, 128)       73856     \n",
      "_________________________________________________________________\n",
      "batch_normalization_2 (Batch (None, 16, 16, 128)       512       \n",
      "_________________________________________________________________\n",
      "conv2d_3 (Conv2D)            (None, 16, 16, 128)       147584    \n",
      "_________________________________________________________________\n",
      "batch_normalization_3 (Batch (None, 16, 16, 128)       512       \n",
      "_________________________________________________________________\n",
      "max_pooling2d_1 (MaxPooling2 (None, 8, 8, 128)         0         \n",
      "_________________________________________________________________\n",
      "dropout_1 (Dropout)          (None, 8, 8, 128)         0         \n",
      "_________________________________________________________________\n",
      "conv2d_4 (Conv2D)            (None, 8, 8, 256)         295168    \n",
      "_________________________________________________________________\n",
      "batch_normalization_4 (Batch (None, 8, 8, 256)         1024      \n",
      "_________________________________________________________________\n",
      "conv2d_5 (Conv2D)            (None, 8, 8, 256)         590080    \n",
      "_________________________________________________________________\n",
      "batch_normalization_5 (Batch (None, 8, 8, 256)         1024      \n",
      "_________________________________________________________________\n",
      "max_pooling2d_2 (MaxPooling2 (None, 4, 4, 256)         0         \n",
      "_________________________________________________________________\n",
      "dropout_2 (Dropout)          (None, 4, 4, 256)         0         \n",
      "_________________________________________________________________\n",
      "flatten (Flatten)            (None, 4096)              0         \n",
      "_________________________________________________________________\n",
      "dense (Dense)                (None, 256)               1048832   \n",
      "_________________________________________________________________\n",
      "batch_normalization_6 (Batch (None, 256)               1024      \n",
      "_________________________________________________________________\n",
      "dropout_3 (Dropout)          (None, 256)               0         \n",
      "_________________________________________________________________\n",
      "dense_1 (Dense)              (None, 256)               65792     \n",
      "_________________________________________________________________\n",
      "batch_normalization_7 (Batch (None, 256)               1024      \n",
      "_________________________________________________________________\n",
      "dropout_4 (Dropout)          (None, 256)               0         \n",
      "_________________________________________________________________\n",
      "dense_2 (Dense)              (None, 20)                5140      \n",
      "=================================================================\n",
      "Total params: 2,270,804\n",
      "Trainable params: 2,267,988\n",
      "Non-trainable params: 2,816\n",
      "_________________________________________________________________\n",
      "None\n"
     ]
    }
   ],
   "source": [
    "model = Sequential()\n",
    "\n",
    "#1st CONV ReLU Layer\n",
    "model.add(Conv2D(64,(3,3),padding = 'same',input_shape = (img_rows,img_cols,3),activation='relu'))\n",
    "model.add(BatchNormalization())\n",
    "\n",
    "#2nd CONV ReLU Layer\n",
    "\n",
    "model.add(Conv2D(64,(3,3),padding = 'same',input_shape = (img_rows,img_cols,3),activation='relu'))\n",
    "model.add(BatchNormalization())\n",
    "\n",
    "model.add(MaxPooling2D(pool_size=(2,2)))\n",
    "model.add(Dropout(0.2))\n",
    "\n",
    "\n",
    "model.add(Conv2D(128,(3,3),activation='relu',padding='same'))\n",
    "model.add(BatchNormalization())\n",
    "\n",
    "model.add(Conv2D(128,(3,3),activation='relu',padding='same'))\n",
    "model.add(BatchNormalization())\n",
    "\n",
    "model.add(MaxPooling2D(pool_size=(2,2)))\n",
    "model.add(Dropout(0.2))\n",
    "\n",
    "\n",
    "\n",
    "\n",
    "\n",
    "\n",
    "model.add(Conv2D(256,(3,3),activation='relu',padding='same'))\n",
    "model.add(BatchNormalization())\n",
    "\n",
    "model.add(Conv2D(256,(3,3),activation='relu',padding='same'))\n",
    "model.add(BatchNormalization())\n",
    "\n",
    "\n",
    "model.add(MaxPooling2D(pool_size=(2,2)))\n",
    "model.add(Dropout(0.2))\n",
    "\n",
    "\n",
    "\n",
    "\n",
    "model.add(Flatten())\n",
    "\n",
    "model.add(Dense(256,activation='relu'))\n",
    "model.add(BatchNormalization())\n",
    "model.add(Dropout(0.5))\n",
    "\n",
    "\n",
    "model.add(Dense(256,activation='relu'))\n",
    "model.add(BatchNormalization())\n",
    "model.add(Dropout(0.5))\n",
    "          \n",
    "          \n",
    "          \n",
    "model.add(Dense(num_classes,activation='softmax'))\n",
    "\n",
    "          \n",
    "print(model.summary())\n",
    "\n",
    "\n"
   ]
  },
  {
   "cell_type": "markdown",
   "metadata": {},
   "source": [
    "## Visualizing Model"
   ]
  },
  {
   "cell_type": "code",
   "execution_count": 24,
   "metadata": {},
   "outputs": [],
   "source": [
    "%matplotlib inline\n",
    "\n",
    "from keras.utils.vis_utils import plot_model\n",
    "import matplotlib.pyplot as plt\n",
    "import matplotlib.image as mpimg\n",
    "import numpy as np"
   ]
  },
  {
   "cell_type": "code",
   "execution_count": 35,
   "metadata": {},
   "outputs": [],
   "source": [
    "# pip install pydot"
   ]
  },
  {
   "cell_type": "code",
   "execution_count": 33,
   "metadata": {},
   "outputs": [],
   "source": [
    "# plot_model(model,to_file='LittleVGG.png',show_shapes=True,show_layer_names=True)"
   ]
  },
  {
   "cell_type": "code",
   "execution_count": 34,
   "metadata": {},
   "outputs": [],
   "source": [
    "# image = mpimg.imread('LittleVGG.png')\n",
    "# plt.figure(figsize=(100,7))\n",
    "# imgplot = plt.imshow(image)"
   ]
  },
  {
   "cell_type": "markdown",
   "metadata": {},
   "source": [
    "### TRAINING MODEL"
   ]
  },
  {
   "cell_type": "code",
   "execution_count": 36,
   "metadata": {},
   "outputs": [],
   "source": [
    "from keras.optimizers import RMSprop, SGD,Adam\n",
    "from keras.callbacks import ModelCheckpoint,EarlyStopping,ReduceLROnPlateau"
   ]
  },
  {
   "cell_type": "code",
   "execution_count": 37,
   "metadata": {},
   "outputs": [],
   "source": [
    "reduce_lr = ReduceLROnPlateau(monitor='val_loss',min_delta=0.00001,patience=3,factor=0.2,verbose=1)"
   ]
  },
  {
   "cell_type": "code",
   "execution_count": 38,
   "metadata": {},
   "outputs": [],
   "source": [
    "callbacks.append(reduce_lr)"
   ]
  },
  {
   "cell_type": "code",
   "execution_count": 39,
   "metadata": {},
   "outputs": [],
   "source": [
    "model.compile(loss='categorical_crossentropy',optimizer=Adam(lr=0.01),metrics=['accuracy'])"
   ]
  },
  {
   "cell_type": "code",
   "execution_count": 40,
   "metadata": {},
   "outputs": [],
   "source": [
    "epochs = 10"
   ]
  },
  {
   "cell_type": "code",
   "execution_count": 42,
   "metadata": {},
   "outputs": [
    {
     "name": "stdout",
     "output_type": "stream",
     "text": [
      "Epoch 1/10\n",
      "1221/1221 [==============================] - ETA: 0s - loss: 2.7523 - accuracy: 0.1996\n",
      "Epoch 00001: val_loss improved from inf to 3.14192, saving model to Simpsons.h5\n",
      "1221/1221 [==============================] - 394s 323ms/step - loss: 2.7523 - accuracy: 0.1996 - val_loss: 3.1419 - val_accuracy: 0.1404\n",
      "Epoch 2/10\n",
      "1221/1221 [==============================] - ETA: 0s - loss: 2.1215 - accuracy: 0.3522\n",
      "Epoch 00002: val_loss improved from 3.14192 to 1.89299, saving model to Simpsons.h5\n",
      "1221/1221 [==============================] - 323s 264ms/step - loss: 2.1215 - accuracy: 0.3522 - val_loss: 1.8930 - val_accuracy: 0.4518\n",
      "Epoch 3/10\n",
      "1221/1221 [==============================] - ETA: 0s - loss: 1.6881 - accuracy: 0.4924\n",
      "Epoch 00003: val_loss improved from 1.89299 to 1.50527, saving model to Simpsons.h5\n",
      "1221/1221 [==============================] - 321s 263ms/step - loss: 1.6881 - accuracy: 0.4924 - val_loss: 1.5053 - val_accuracy: 0.5400\n",
      "Epoch 4/10\n",
      "1221/1221 [==============================] - ETA: 0s - loss: 1.4237 - accuracy: 0.5805\n",
      "Epoch 00004: val_loss improved from 1.50527 to 1.32127, saving model to Simpsons.h5\n",
      "1221/1221 [==============================] - 320s 262ms/step - loss: 1.4237 - accuracy: 0.5805 - val_loss: 1.3213 - val_accuracy: 0.6137\n",
      "Epoch 5/10\n",
      "1221/1221 [==============================] - ETA: 0s - loss: 1.2395 - accuracy: 0.6396\n",
      "Epoch 00005: val_loss did not improve from 1.32127\n",
      "1221/1221 [==============================] - 319s 262ms/step - loss: 1.2395 - accuracy: 0.6396 - val_loss: 5.7591 - val_accuracy: 0.1393\n",
      "Epoch 6/10\n",
      "1221/1221 [==============================] - ETA: 0s - loss: 1.1370 - accuracy: 0.6659\n",
      "Epoch 00006: val_loss improved from 1.32127 to 0.91466, saving model to Simpsons.h5\n",
      "1221/1221 [==============================] - 320s 262ms/step - loss: 1.1370 - accuracy: 0.6659 - val_loss: 0.9147 - val_accuracy: 0.7520\n",
      "Epoch 7/10\n",
      "1221/1221 [==============================] - ETA: 0s - loss: 1.0070 - accuracy: 0.7124\n",
      "Epoch 00007: val_loss improved from 0.91466 to 0.74438, saving model to Simpsons.h5\n",
      "1221/1221 [==============================] - 318s 261ms/step - loss: 1.0070 - accuracy: 0.7124 - val_loss: 0.7444 - val_accuracy: 0.7920\n",
      "Epoch 8/10\n",
      "1221/1221 [==============================] - ETA: 0s - loss: 0.9229 - accuracy: 0.7413\n",
      "Epoch 00008: val_loss did not improve from 0.74438\n",
      "1221/1221 [==============================] - 331s 271ms/step - loss: 0.9229 - accuracy: 0.7413 - val_loss: 1.0558 - val_accuracy: 0.7213\n",
      "Epoch 9/10\n",
      "1221/1221 [==============================] - ETA: 0s - loss: 0.8496 - accuracy: 0.7630\n",
      "Epoch 00009: val_loss improved from 0.74438 to 0.56373, saving model to Simpsons.h5\n",
      "1221/1221 [==============================] - 321s 263ms/step - loss: 0.8496 - accuracy: 0.7630 - val_loss: 0.5637 - val_accuracy: 0.8381\n",
      "Epoch 10/10\n",
      "1221/1221 [==============================] - ETA: 0s - loss: 0.8139 - accuracy: 0.7728\n",
      "Epoch 00010: val_loss improved from 0.56373 to 0.40194, saving model to Simpsons.h5\n",
      "1221/1221 [==============================] - 313s 256ms/step - loss: 0.8139 - accuracy: 0.7728 - val_loss: 0.4019 - val_accuracy: 0.8904\n"
     ]
    }
   ],
   "source": [
    "history = model.fit_generator(train_generator,steps_per_epoch=nb_train_samples//batch_size,epochs = epochs,validation_data=validation_generator,validation_steps=nb_validation_samples//batch_size,callbacks=callbacks)"
   ]
  },
  {
   "cell_type": "code",
   "execution_count": 43,
   "metadata": {},
   "outputs": [],
   "source": [
    "logs = history.history"
   ]
  },
  {
   "cell_type": "code",
   "execution_count": 46,
   "metadata": {},
   "outputs": [
    {
     "data": {
      "text/plain": [
       "{'loss': [2.7523446083068848,\n",
       "  2.1215157508850098,\n",
       "  1.6881327629089355,\n",
       "  1.4237297773361206,\n",
       "  1.2395379543304443,\n",
       "  1.1370264291763306,\n",
       "  1.0070396661758423,\n",
       "  0.92286217212677,\n",
       "  0.8496171832084656,\n",
       "  0.8139159083366394],\n",
       " 'accuracy': [0.19962114095687866,\n",
       "  0.3521912693977356,\n",
       "  0.4924226999282837,\n",
       "  0.5805345177650452,\n",
       "  0.6395658254623413,\n",
       "  0.6658816337585449,\n",
       "  0.712369441986084,\n",
       "  0.7412963509559631,\n",
       "  0.7629531025886536,\n",
       "  0.772783100605011],\n",
       " 'val_loss': [3.141916036605835,\n",
       "  1.8929874897003174,\n",
       "  1.50527024269104,\n",
       "  1.32126784324646,\n",
       "  5.759088516235352,\n",
       "  0.9146623611450195,\n",
       "  0.7443771958351135,\n",
       "  1.0558358430862427,\n",
       "  0.5637272596359253,\n",
       "  0.4019363820552826],\n",
       " 'val_accuracy': [0.14036884903907776,\n",
       "  0.4518442749977112,\n",
       "  0.5399590134620667,\n",
       "  0.6137295365333557,\n",
       "  0.13934426009655,\n",
       "  0.7520492076873779,\n",
       "  0.7920082211494446,\n",
       "  0.7213114500045776,\n",
       "  0.8381147384643555,\n",
       "  0.8903688788414001],\n",
       " 'lr': [0.01, 0.01, 0.01, 0.01, 0.01, 0.01, 0.01, 0.01, 0.01, 0.01]}"
      ]
     },
     "execution_count": 46,
     "metadata": {},
     "output_type": "execute_result"
    }
   ],
   "source": [
    "logs"
   ]
  },
  {
   "cell_type": "code",
   "execution_count": 48,
   "metadata": {},
   "outputs": [],
   "source": [
    "import pandas as pd"
   ]
  },
  {
   "cell_type": "code",
   "execution_count": 49,
   "metadata": {},
   "outputs": [],
   "source": [
    "logs = pd.DataFrame(logs)"
   ]
  },
  {
   "cell_type": "code",
   "execution_count": 51,
   "metadata": {},
   "outputs": [],
   "source": [
    "logs = logs.drop('lr',axis=1)"
   ]
  },
  {
   "cell_type": "code",
   "execution_count": 52,
   "metadata": {},
   "outputs": [
    {
     "data": {
      "text/html": [
       "<div>\n",
       "<style scoped>\n",
       "    .dataframe tbody tr th:only-of-type {\n",
       "        vertical-align: middle;\n",
       "    }\n",
       "\n",
       "    .dataframe tbody tr th {\n",
       "        vertical-align: top;\n",
       "    }\n",
       "\n",
       "    .dataframe thead th {\n",
       "        text-align: right;\n",
       "    }\n",
       "</style>\n",
       "<table border=\"1\" class=\"dataframe\">\n",
       "  <thead>\n",
       "    <tr style=\"text-align: right;\">\n",
       "      <th></th>\n",
       "      <th>loss</th>\n",
       "      <th>accuracy</th>\n",
       "      <th>val_loss</th>\n",
       "      <th>val_accuracy</th>\n",
       "    </tr>\n",
       "  </thead>\n",
       "  <tbody>\n",
       "    <tr>\n",
       "      <th>0</th>\n",
       "      <td>2.752345</td>\n",
       "      <td>0.199621</td>\n",
       "      <td>3.141916</td>\n",
       "      <td>0.140369</td>\n",
       "    </tr>\n",
       "    <tr>\n",
       "      <th>1</th>\n",
       "      <td>2.121516</td>\n",
       "      <td>0.352191</td>\n",
       "      <td>1.892987</td>\n",
       "      <td>0.451844</td>\n",
       "    </tr>\n",
       "    <tr>\n",
       "      <th>2</th>\n",
       "      <td>1.688133</td>\n",
       "      <td>0.492423</td>\n",
       "      <td>1.505270</td>\n",
       "      <td>0.539959</td>\n",
       "    </tr>\n",
       "    <tr>\n",
       "      <th>3</th>\n",
       "      <td>1.423730</td>\n",
       "      <td>0.580535</td>\n",
       "      <td>1.321268</td>\n",
       "      <td>0.613730</td>\n",
       "    </tr>\n",
       "    <tr>\n",
       "      <th>4</th>\n",
       "      <td>1.239538</td>\n",
       "      <td>0.639566</td>\n",
       "      <td>5.759089</td>\n",
       "      <td>0.139344</td>\n",
       "    </tr>\n",
       "    <tr>\n",
       "      <th>5</th>\n",
       "      <td>1.137026</td>\n",
       "      <td>0.665882</td>\n",
       "      <td>0.914662</td>\n",
       "      <td>0.752049</td>\n",
       "    </tr>\n",
       "    <tr>\n",
       "      <th>6</th>\n",
       "      <td>1.007040</td>\n",
       "      <td>0.712369</td>\n",
       "      <td>0.744377</td>\n",
       "      <td>0.792008</td>\n",
       "    </tr>\n",
       "    <tr>\n",
       "      <th>7</th>\n",
       "      <td>0.922862</td>\n",
       "      <td>0.741296</td>\n",
       "      <td>1.055836</td>\n",
       "      <td>0.721311</td>\n",
       "    </tr>\n",
       "    <tr>\n",
       "      <th>8</th>\n",
       "      <td>0.849617</td>\n",
       "      <td>0.762953</td>\n",
       "      <td>0.563727</td>\n",
       "      <td>0.838115</td>\n",
       "    </tr>\n",
       "    <tr>\n",
       "      <th>9</th>\n",
       "      <td>0.813916</td>\n",
       "      <td>0.772783</td>\n",
       "      <td>0.401936</td>\n",
       "      <td>0.890369</td>\n",
       "    </tr>\n",
       "  </tbody>\n",
       "</table>\n",
       "</div>"
      ],
      "text/plain": [
       "       loss  accuracy  val_loss  val_accuracy\n",
       "0  2.752345  0.199621  3.141916      0.140369\n",
       "1  2.121516  0.352191  1.892987      0.451844\n",
       "2  1.688133  0.492423  1.505270      0.539959\n",
       "3  1.423730  0.580535  1.321268      0.613730\n",
       "4  1.239538  0.639566  5.759089      0.139344\n",
       "5  1.137026  0.665882  0.914662      0.752049\n",
       "6  1.007040  0.712369  0.744377      0.792008\n",
       "7  0.922862  0.741296  1.055836      0.721311\n",
       "8  0.849617  0.762953  0.563727      0.838115\n",
       "9  0.813916  0.772783  0.401936      0.890369"
      ]
     },
     "execution_count": 52,
     "metadata": {},
     "output_type": "execute_result"
    }
   ],
   "source": [
    "logs"
   ]
  },
  {
   "cell_type": "code",
   "execution_count": 53,
   "metadata": {},
   "outputs": [
    {
     "data": {
      "text/plain": [
       "<matplotlib.axes._subplots.AxesSubplot at 0x1d7343c65b0>"
      ]
     },
     "execution_count": 53,
     "metadata": {},
     "output_type": "execute_result"
    },
    {
     "data": {
      "image/png": "[encoded data removed]",
      "text/plain": [
       "<Figure size 432x288 with 1 Axes>"
      ]
     },
     "metadata": {
      "needs_background": "light"
     },
     "output_type": "display_data"
    }
   ],
   "source": [
    "logs.plot()"
   ]
  },
  {
   "cell_type": "markdown",
   "metadata": {},
   "source": [
    "## Performance Analysis"
   ]
  },
  {
   "cell_type": "code",
   "execution_count": 54,
   "metadata": {},
   "outputs": [],
   "source": [
    "import matplotlib.pyplot as plt"
   ]
  },
  {
   "cell_type": "code",
   "execution_count": 55,
   "metadata": {},
   "outputs": [],
   "source": [
    "import sklearn\n",
    "from sklearn.metrics import classification_report,confusion_matrix"
   ]
  },
  {
   "cell_type": "code",
   "execution_count": 56,
   "metadata": {},
   "outputs": [],
   "source": [
    "import numpy as np"
   ]
  },
  {
   "cell_type": "code",
   "execution_count": 57,
   "metadata": {},
   "outputs": [
    {
     "name": "stdout",
     "output_type": "stream",
     "text": [
      "Found 990 images belonging to 20 classes.\n"
     ]
    }
   ],
   "source": [
    "validation_generator = validation_datagen.flow_from_directory(validation_data_dir,target_size=(img_rows,img_cols),class_mode='categorical',batch_size=batch_size,shuffle=False)"
   ]
  },
  {
   "cell_type": "code",
   "execution_count": 58,
   "metadata": {},
   "outputs": [],
   "source": [
    "class_labels = validation_generator.class_indices"
   ]
  },
  {
   "cell_type": "code",
   "execution_count": 59,
   "metadata": {},
   "outputs": [],
   "source": [
    "class_labels = {v:k for k,v in class_labels.items()}"
   ]
  },
  {
   "cell_type": "code",
   "execution_count": 60,
   "metadata": {},
   "outputs": [
    {
     "data": {
      "text/plain": [
       "{0: 'abraham_grampa_simpson',\n",
       " 1: 'apu_nahasapeemapetilon',\n",
       " 2: 'bart_simpson',\n",
       " 3: 'charles_montgomery_burns',\n",
       " 4: 'chief_wiggum',\n",
       " 5: 'comic_book_guy',\n",
       " 6: 'edna_krabappel',\n",
       " 7: 'homer_simpson',\n",
       " 8: 'kent_brockman',\n",
       " 9: 'krusty_the_clown',\n",
       " 10: 'lenny_leonard',\n",
       " 11: 'lisa_simpson',\n",
       " 12: 'marge_simpson',\n",
       " 13: 'mayor_quimby',\n",
       " 14: 'milhouse_van_houten',\n",
       " 15: 'moe_szyslak',\n",
       " 16: 'ned_flanders',\n",
       " 17: 'nelson_muntz',\n",
       " 18: 'principal_skinner',\n",
       " 19: 'sideshow_bob'}"
      ]
     },
     "execution_count": 60,
     "metadata": {},
     "output_type": "execute_result"
    }
   ],
   "source": [
    "class_labels"
   ]
  },
  {
   "cell_type": "code",
   "execution_count": 62,
   "metadata": {},
   "outputs": [],
   "source": [
    "classes = list(class_labels.values())"
   ]
  },
  {
   "cell_type": "code",
   "execution_count": 63,
   "metadata": {},
   "outputs": [
    {
     "data": {
      "text/plain": [
       "['abraham_grampa_simpson',\n",
       " 'apu_nahasapeemapetilon',\n",
       " 'bart_simpson',\n",
       " 'charles_montgomery_burns',\n",
       " 'chief_wiggum',\n",
       " 'comic_book_guy',\n",
       " 'edna_krabappel',\n",
       " 'homer_simpson',\n",
       " 'kent_brockman',\n",
       " 'krusty_the_clown',\n",
       " 'lenny_leonard',\n",
       " 'lisa_simpson',\n",
       " 'marge_simpson',\n",
       " 'mayor_quimby',\n",
       " 'milhouse_van_houten',\n",
       " 'moe_szyslak',\n",
       " 'ned_flanders',\n",
       " 'nelson_muntz',\n",
       " 'principal_skinner',\n",
       " 'sideshow_bob']"
      ]
     },
     "execution_count": 63,
     "metadata": {},
     "output_type": "execute_result"
    }
   ],
   "source": [
    "classes"
   ]
  },
  {
   "cell_type": "code",
   "execution_count": 64,
   "metadata": {},
   "outputs": [
    {
     "data": {
      "text/plain": [
       "19548"
      ]
     },
     "execution_count": 64,
     "metadata": {},
     "output_type": "execute_result"
    }
   ],
   "source": [
    "nb_train_samples"
   ]
  },
  {
   "cell_type": "code",
   "execution_count": 65,
   "metadata": {},
   "outputs": [
    {
     "name": "stdout",
     "output_type": "stream",
     "text": [
      "WARNING:tensorflow:From <ipython-input-65-af14b2304874>:1: Model.predict_generator (from tensorflow.python.keras.engine.training) is deprecated and will be removed in a future version.\n",
      "Instructions for updating:\n",
      "Please use Model.predict, which supports generators.\n"
     ]
    }
   ],
   "source": [
    "Y_pred = model.predict_generator(validation_generator,nb_validation_samples//batch_size+1)"
   ]
  },
  {
   "cell_type": "code",
   "execution_count": 66,
   "metadata": {},
   "outputs": [],
   "source": [
    "y_pred = np.argmax(Y_pred,axis=1)"
   ]
  },
  {
   "cell_type": "code",
   "execution_count": 67,
   "metadata": {},
   "outputs": [
    {
     "data": {
      "text/plain": [
       "array([ 0,  7,  7,  0,  0,  0,  7,  0,  7,  0,  0,  0,  0,  0,  0,  0,  0,\n",
       "        0,  0,  0,  0,  0,  0,  0,  0,  0,  0,  0,  0,  7,  0,  0,  0,  0,\n",
       "        0,  0,  0,  0,  7,  7,  0,  0,  0,  0,  0,  0,  0,  0,  1,  1,  1,\n",
       "        1,  1,  1,  1,  1,  1,  1,  1,  1,  1,  1,  1,  1,  1,  1,  1,  1,\n",
       "        1,  1,  1,  1,  1,  1,  1,  1,  1,  1,  1,  1,  1,  1,  1,  1,  1,\n",
       "        1,  1,  1,  1,  1,  1,  1,  1,  1,  1,  1,  1,  1,  2,  7,  2,  2,\n",
       "        2,  2,  7,  2,  7, 11,  2, 18,  7,  2,  2,  2,  2, 18, 18,  2,  2,\n",
       "        2,  2, 11,  2,  2,  2,  2,  2,  2,  2,  2,  2,  2,  2,  2,  2,  2,\n",
       "        2,  2,  2,  2,  2, 18, 18,  2,  2,  2,  2,  0,  3,  3,  3,  3,  3,\n",
       "        3,  3,  3,  3,  3,  3,  3,  3,  3,  3,  3,  3,  3,  3,  3,  3,  3,\n",
       "        3,  3,  3,  3,  3,  3,  7,  3,  3,  3,  4,  3,  3,  3,  3,  3,  3,\n",
       "        3,  3, 11, 15, 11,  3, 19,  3,  3,  4,  4,  4,  4,  4,  4, 15,  4,\n",
       "        4,  4,  4,  4,  4,  4,  4,  4,  4,  4,  4,  4,  4,  4,  4,  4,  4,\n",
       "        4,  4,  4,  4,  4,  4,  4,  4,  4, 15,  4,  4,  4,  4,  4,  4,  4,\n",
       "        4, 15,  4,  4,  4, 15,  4,  4,  5,  9,  5,  5,  5,  5,  5,  4,  5,\n",
       "       17,  4,  5,  5,  5,  5, 19,  5,  0,  5, 15,  5,  5,  5, 15,  5,  5,\n",
       "        5,  5,  5,  5,  5, 18,  4,  5,  5,  5,  9,  5, 18,  5,  5,  5,  4,\n",
       "        5,  5, 18,  5,  9,  5,  6,  6,  6,  6,  6,  0,  6,  6,  6, 16,  6,\n",
       "        6,  6,  6, 16,  6,  6,  6,  6,  6,  6, 16,  5,  6, 16,  6,  6,  6,\n",
       "        6, 18,  6,  6,  6,  6,  6,  6,  6, 16,  6,  6,  6,  6,  6,  6, 18,\n",
       "        6,  8,  6,  6, 18,  7,  7,  7,  7,  7,  7,  7,  7,  7,  7,  7,  7,\n",
       "        7,  7,  7,  7,  7,  7,  7,  7,  7,  7,  7,  7, 18,  7,  7,  7,  7,\n",
       "        7,  7,  7,  7,  7,  7,  7,  7,  7,  7,  7,  7,  7,  7,  7,  7,  7,\n",
       "        7,  7,  7,  7,  8,  8,  8,  8,  8,  8,  8,  8,  8,  8,  8,  8,  8,\n",
       "        8,  8,  8,  8,  8,  8,  8,  8,  8,  8,  8,  8,  8,  8,  8,  8,  8,\n",
       "        8,  3,  8,  8,  8,  8,  8,  8,  8,  8,  8,  8,  8,  8,  8,  8,  8,\n",
       "        8,  8,  8,  9,  9,  9,  9,  9,  9,  9,  9,  9,  9,  9,  9,  9,  9,\n",
       "        9,  9,  9,  9,  9,  9,  9,  9,  9,  9,  9,  9,  9,  9,  9,  9,  9,\n",
       "        9,  9,  9,  9,  9,  9,  9,  9,  9,  9,  9,  9,  9,  9,  9,  9, 12,\n",
       "        9,  9, 10, 10,  7,  7, 10, 10, 10, 10, 10, 10, 10, 10, 10, 10, 10,\n",
       "       10, 10, 10, 10, 10, 10, 10, 10, 10, 10, 10, 10, 10, 17, 10, 19, 10,\n",
       "       10,  7, 10, 10, 10, 10, 10, 10, 10, 10, 10, 17, 10, 10, 10, 10, 10,\n",
       "       10, 11, 11, 11, 11, 11, 15, 11, 11, 11, 11, 11, 11, 11, 11, 11, 11,\n",
       "       11, 18, 11, 11,  7, 11, 11, 11, 11, 11, 11, 11, 11, 11, 11, 11, 11,\n",
       "       11, 11, 11, 11, 11, 11, 11, 11, 11,  5, 11, 16,  7, 11, 11, 11, 11,\n",
       "       12, 12, 12, 12, 12, 12, 12, 12, 12, 12, 12, 12, 12, 12, 12, 12, 12,\n",
       "       12, 12, 12, 12, 12, 12, 12, 12, 12, 12,  7, 12, 12, 12, 12, 12, 12,\n",
       "       12, 12,  7, 12, 12, 12, 12, 12, 12, 12, 12, 12, 12,  1, 16, 12, 13,\n",
       "       15, 13, 13, 13, 13, 13, 13, 13, 13, 13, 16, 13, 13, 13, 13, 13, 13,\n",
       "       13, 15, 13, 13, 13, 13, 13, 13, 13, 16, 13, 13, 17, 13, 15, 16, 13,\n",
       "       13, 13, 15, 13, 13, 13, 13, 13, 13, 13, 13, 13, 13, 13, 15, 14, 14,\n",
       "       14, 14, 14, 14, 14, 14, 14, 12, 14, 14, 14,  1, 14, 14,  5, 14, 14,\n",
       "       15, 14, 14, 14, 15,  8, 14, 14, 14, 14, 14, 15, 14, 14, 14, 14, 14,\n",
       "       14, 14, 14, 14, 15, 14, 14, 14, 14, 14, 14, 14, 12, 15, 15, 15, 15,\n",
       "       15, 15, 15, 15, 15, 15, 15, 15, 15, 15, 18, 18, 15, 15, 15, 15, 15,\n",
       "       15, 15, 15, 15, 15, 15, 15, 15, 15, 15, 15, 15, 15, 15, 15, 15, 15,\n",
       "       15, 15, 15, 15, 15, 15, 15, 15, 15, 15, 15, 15, 16, 16, 16, 16, 16,\n",
       "       16, 16, 16, 16, 16, 16, 16, 16, 16, 16, 16, 16, 16, 16, 16, 16, 16,\n",
       "       16, 16, 16, 16, 16,  4, 16, 16, 16, 16, 16, 16, 16, 16, 16, 16, 16,\n",
       "       16, 16, 16, 16, 16, 16, 12, 16, 16, 16, 17, 15, 17, 17, 17, 17, 17,\n",
       "       17, 17, 17,  4,  5, 17, 17, 13, 17, 17, 17,  5, 16, 17, 17,  4, 17,\n",
       "       17, 17, 17, 17, 17, 17, 17, 13, 17, 17, 17, 17, 10, 17, 17, 17, 17,\n",
       "       17, 17, 17, 17, 17, 17,  7,  7, 17, 18, 18, 18, 18, 18, 18, 18, 18,\n",
       "       18, 18, 18, 18, 18, 18, 18, 18, 18, 18, 18, 18, 18, 18, 18, 18, 18,\n",
       "       18, 18, 18, 18, 18, 18, 18, 18, 18, 18, 18, 18, 18, 18, 18, 18, 18,\n",
       "       18,  7, 18, 18, 18, 18, 18, 18, 19, 19, 19, 19, 19, 19, 19, 19, 19,\n",
       "       19, 19, 19, 19, 19, 19, 19, 19, 19, 19, 19, 19, 19, 19, 19, 19, 19,\n",
       "       19, 19, 19, 19, 19, 19, 19, 19, 19, 19, 19, 19, 19, 19,  1, 19, 19,\n",
       "       19, 19, 19, 19], dtype=int64)"
      ]
     },
     "execution_count": 67,
     "metadata": {},
     "output_type": "execute_result"
    }
   ],
   "source": [
    "y_pred"
   ]
  },
  {
   "cell_type": "code",
   "execution_count": 70,
   "metadata": {},
   "outputs": [
    {
     "name": "stdout",
     "output_type": "stream",
     "text": [
      "Confusion Matrix\n",
      "[[41  0  0  0  0  0  0  7  0  0  0  0  0  0  0  0  0  0  0  0]\n",
      " [ 0 50  0  0  0  0  0  0  0  0  0  0  0  0  0  0  0  0  0  0]\n",
      " [ 1  0 38  0  0  0  0  4  0  0  0  2  0  0  0  0  0  0  5  0]\n",
      " [ 0  0  0 42  1  0  0  1  0  0  0  2  0  0  0  1  0  0  0  1]\n",
      " [ 0  0  0  0 46  0  0  0  0  0  0  0  0  0  0  4  0  0  0  0]\n",
      " [ 1  0  0  0  4 34  0  0  0  3  0  0  0  0  0  2  0  1  3  1]\n",
      " [ 1  0  0  0  0  1 39  0  1  0  0  0  0  0  0  0  5  0  3  0]\n",
      " [ 0  0  0  0  0  0  0 49  0  0  0  0  0  0  0  0  0  0  1  0]\n",
      " [ 0  0  0  1  0  0  0  0 49  0  0  0  0  0  0  0  0  0  0  0]\n",
      " [ 0  0  0  0  0  0  0  0  0 49  0  0  1  0  0  0  0  0  0  0]\n",
      " [ 0  0  0  0  0  0  0  3  0  0 44  0  0  0  0  0  0  2  0  1]\n",
      " [ 0  0  0  0  0  1  0  2  0  0  0 44  0  0  0  1  1  0  1  0]\n",
      " [ 0  1  0  0  0  0  0  2  0  0  0  0 46  0  0  0  1  0  0  0]\n",
      " [ 0  0  0  0  0  0  0  0  0  0  0  0  0 41  0  5  3  1  0  0]\n",
      " [ 0  1  0  0  0  1  0  0  1  0  0  0  2  0 40  4  0  0  0  0]\n",
      " [ 0  0  0  0  0  0  0  0  0  0  0  0  0  0  0 48  0  0  2  0]\n",
      " [ 0  0  0  0  1  0  0  0  0  0  0  0  1  0  0  0 47  0  0  0]\n",
      " [ 0  0  0  0  2  2  0  2  0  0  1  0  0  2  0  1  1 39  0  0]\n",
      " [ 0  0  0  0  0  0  0  1  0  0  0  0  0  0  0  0  0  0 49  0]\n",
      " [ 0  1  0  0  0  0  0  0  0  0  0  0  0  0  0  0  0  0  0 46]]\n"
     ]
    }
   ],
   "source": [
    "print(\"Confusion Matrix\")\n",
    "print(confusion_matrix(validation_generator.classes,y_pred))"
   ]
  },
  {
   "cell_type": "code",
   "execution_count": 73,
   "metadata": {},
   "outputs": [
    {
     "name": "stdout",
     "output_type": "stream",
     "text": [
      "Classification report\n",
      "                          precision    recall  f1-score   support\n",
      "\n",
      "  abraham_grampa_simpson       0.93      0.85      0.89        48\n",
      "  apu_nahasapeemapetilon       0.94      1.00      0.97        50\n",
      "            bart_simpson       1.00      0.76      0.86        50\n",
      "charles_montgomery_burns       0.98      0.88      0.92        48\n",
      "            chief_wiggum       0.85      0.92      0.88        50\n",
      "          comic_book_guy       0.87      0.69      0.77        49\n",
      "          edna_krabappel       1.00      0.78      0.88        50\n",
      "           homer_simpson       0.69      0.98      0.81        50\n",
      "           kent_brockman       0.96      0.98      0.97        50\n",
      "        krusty_the_clown       0.94      0.98      0.96        50\n",
      "           lenny_leonard       0.98      0.88      0.93        50\n",
      "            lisa_simpson       0.92      0.88      0.90        50\n",
      "           marge_simpson       0.92      0.92      0.92        50\n",
      "            mayor_quimby       0.95      0.82      0.88        50\n",
      "     milhouse_van_houten       1.00      0.82      0.90        49\n",
      "             moe_szyslak       0.73      0.96      0.83        50\n",
      "            ned_flanders       0.81      0.96      0.88        49\n",
      "            nelson_muntz       0.91      0.78      0.84        50\n",
      "       principal_skinner       0.77      0.98      0.86        50\n",
      "            sideshow_bob       0.94      0.98      0.96        47\n",
      "\n",
      "                accuracy                           0.89       990\n",
      "               macro avg       0.90      0.89      0.89       990\n",
      "            weighted avg       0.90      0.89      0.89       990\n",
      "\n"
     ]
    }
   ],
   "source": [
    "print(\"Classification report\")\n",
    "print(classification_report(validation_generator.classes,y_pred,target_names=classes))"
   ]
  },
  {
   "cell_type": "code",
   "execution_count": null,
   "metadata": {},
   "outputs": [],
   "source": []
  }
 ],
 "metadata": {
  "kernelspec": {
   "display_name": "Python 3",
   "language": "python",
   "name": "python3"
  },
  "language_info": {
   "codemirror_mode": {
    "name": "ipython",
    "version": 3
   },
   "file_extension": ".py",
   "mimetype": "text/x-python",
   "name": "python",
   "nbconvert_exporter": "python",
   "pygments_lexer": "ipython3",
   "version": "3.8.3"
  }
 },
 "nbformat": 4,
 "nbformat_minor": 4
}
